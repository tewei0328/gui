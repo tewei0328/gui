{
  "nbformat": 4,
  "nbformat_minor": 0,
  "metadata": {
    "colab": {
      "name": "tkinter_matplotlib_tkagg.ipynb",
      "provenance": [],
      "authorship_tag": "ABX9TyO3DenEWVtmh0Nlcl7Q9SIR",
      "include_colab_link": true
    },
    "kernelspec": {
      "name": "python3",
      "display_name": "Python 3"
    },
    "language_info": {
      "name": "python"
    }
  },
  "cells": [
    {
      "cell_type": "markdown",
      "metadata": {
        "id": "view-in-github",
        "colab_type": "text"
      },
      "source": [
        "<a href=\"https://colab.research.google.com/github/tewei0328/gui/blob/main/tkinter_matplotlib_tkagg.ipynb\" target=\"_parent\"><img src=\"https://colab.research.google.com/assets/colab-badge.svg\" alt=\"Open In Colab\"/></a>"
      ]
    },
    {
      "cell_type": "code",
      "execution_count": null,
      "metadata": {
        "id": "ZulPgRWkIJRy"
      },
      "outputs": [],
      "source": [
        "import matplotlib\n",
        "matplotlib.use('TkAgg')\n",
        "from matplotlib.backends.backend_tkagg import FigureCanvasTkAgg\n",
        "from matplotlib.figure import Figure\n",
        "from tkinter import *\n",
        "\n",
        "root = Tk()\n",
        "root.title(\"tkinter and matplotlib\")\n",
        "\n",
        "f = Figure(figsize=(5, 4), dpi=100)\n",
        "f_plot = f.add_subplot(111)\n",
        "\n",
        "def other_picture_alg(): #数据相关的算法应该与plot分离开\n",
        "    x = [1, 2, 3, 4, 5, 6, 7, 8, 9, 10]\n",
        "    y = [3, 6, 9, 12, 15, 18, 15, 12, 15, 18]\n",
        "    return x, y\n",
        "\n",
        "def draw_picture():\n",
        "    f_plot.clear()\n",
        "    x = [1, 2, 3, 4, 5, 6, 7, 8, 9, 10] #关于数据的部分可以提取出来\n",
        "    y = [3, 6, 9, 12, 15, 18, 21, 24, 27, 30]\n",
        "    f_plot.plot(x, y)\n",
        "    canvs.draw()\n",
        "\n",
        "def draw_picture2():\n",
        "    f_plot.clear()\n",
        "    x = [1, 2, 3, 4, 5, 6, 7, 8, 9, 10] #关于数据的部分可以提取出来\n",
        "    y = [2, 4, 6, 8, 10, 8, 6, 4, 2, 0]\n",
        "    f_plot.plot(x, y)\n",
        "    canvs.draw()\n",
        "\n",
        "def draw_picture3():\n",
        "    f_plot.clear()\n",
        "    x, y = other_picture_alg() # 使用由算法生成的数据，可以避免重复的运算过程\n",
        "    f_plot.plot(x, y)\n",
        "    canvs.draw()\n",
        "\n",
        "canvs = FigureCanvasTkAgg(f, root)\n",
        "canvs.get_tk_widget().pack(side=TOP, fill=BOTH, expand=1)\n",
        "Button(root, text='pic', command=draw_picture).pack()\n",
        "Button(root, text='pic2', command=draw_picture2).pack()\n",
        "Button(root, text='pic3', command=draw_picture3).pack()\n",
        "\n",
        "root.mainloop()"
      ]
    }
  ]
}