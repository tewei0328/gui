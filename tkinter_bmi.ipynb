{
  "nbformat": 4,
  "nbformat_minor": 0,
  "metadata": {
    "colab": {
      "name": "tkinter_bmi.ipynb",
      "provenance": [],
      "authorship_tag": "ABX9TyM36wEMVDsFRxOqYA1qKV/8",
      "include_colab_link": true
    },
    "kernelspec": {
      "name": "python3",
      "display_name": "Python 3"
    },
    "language_info": {
      "name": "python"
    }
  },
  "cells": [
    {
      "cell_type": "markdown",
      "metadata": {
        "id": "view-in-github",
        "colab_type": "text"
      },
      "source": [
        "<a href=\"https://colab.research.google.com/github/tewei0328/gui/blob/main/tkinter_bmi.ipynb\" target=\"_parent\"><img src=\"https://colab.research.google.com/assets/colab-badge.svg\" alt=\"Open In Colab\"/></a>"
      ]
    },
    {
      "cell_type": "code",
      "execution_count": 1,
      "metadata": {
        "colab": {
          "base_uri": "https://localhost:8080/",
          "height": 358
        },
        "id": "R9HipdtrvgHb",
        "outputId": "2e71add8-9a0e-4dae-8c23-f223f881deab"
      },
      "outputs": [
        {
          "output_type": "error",
          "ename": "TclError",
          "evalue": "ignored",
          "traceback": [
            "\u001b[0;31m---------------------------------------------------------------------------\u001b[0m",
            "\u001b[0;31mTclError\u001b[0m                                  Traceback (most recent call last)",
            "\u001b[0;32m<ipython-input-1-b0e10ce3a7eb>\u001b[0m in \u001b[0;36m<module>\u001b[0;34m()\u001b[0m\n\u001b[1;32m      2\u001b[0m \u001b[0;32mimport\u001b[0m \u001b[0mmath\u001b[0m\u001b[0;34m\u001b[0m\u001b[0;34m\u001b[0m\u001b[0m\n\u001b[1;32m      3\u001b[0m \u001b[0;34m\u001b[0m\u001b[0m\n\u001b[0;32m----> 4\u001b[0;31m \u001b[0mwindow\u001b[0m \u001b[0;34m=\u001b[0m \u001b[0mtk\u001b[0m\u001b[0;34m.\u001b[0m\u001b[0mTk\u001b[0m\u001b[0;34m(\u001b[0m\u001b[0;34m)\u001b[0m\u001b[0;34m\u001b[0m\u001b[0;34m\u001b[0m\u001b[0m\n\u001b[0m\u001b[1;32m      5\u001b[0m \u001b[0mwindow\u001b[0m\u001b[0;34m.\u001b[0m\u001b[0mtitle\u001b[0m\u001b[0;34m(\u001b[0m\u001b[0;34m'BMI App'\u001b[0m\u001b[0;34m)\u001b[0m\u001b[0;34m\u001b[0m\u001b[0;34m\u001b[0m\u001b[0m\n\u001b[1;32m      6\u001b[0m \u001b[0mwindow\u001b[0m\u001b[0;34m.\u001b[0m\u001b[0mgeometry\u001b[0m\u001b[0;34m(\u001b[0m\u001b[0;34m'800x600'\u001b[0m\u001b[0;34m)\u001b[0m\u001b[0;34m\u001b[0m\u001b[0;34m\u001b[0m\u001b[0m\n",
            "\u001b[0;32m/usr/lib/python3.7/tkinter/__init__.py\u001b[0m in \u001b[0;36m__init__\u001b[0;34m(self, screenName, baseName, className, useTk, sync, use)\u001b[0m\n\u001b[1;32m   2021\u001b[0m                 \u001b[0mbaseName\u001b[0m \u001b[0;34m=\u001b[0m \u001b[0mbaseName\u001b[0m \u001b[0;34m+\u001b[0m \u001b[0mext\u001b[0m\u001b[0;34m\u001b[0m\u001b[0;34m\u001b[0m\u001b[0m\n\u001b[1;32m   2022\u001b[0m         \u001b[0minteractive\u001b[0m \u001b[0;34m=\u001b[0m \u001b[0;36m0\u001b[0m\u001b[0;34m\u001b[0m\u001b[0;34m\u001b[0m\u001b[0m\n\u001b[0;32m-> 2023\u001b[0;31m         \u001b[0mself\u001b[0m\u001b[0;34m.\u001b[0m\u001b[0mtk\u001b[0m \u001b[0;34m=\u001b[0m \u001b[0m_tkinter\u001b[0m\u001b[0;34m.\u001b[0m\u001b[0mcreate\u001b[0m\u001b[0;34m(\u001b[0m\u001b[0mscreenName\u001b[0m\u001b[0;34m,\u001b[0m \u001b[0mbaseName\u001b[0m\u001b[0;34m,\u001b[0m \u001b[0mclassName\u001b[0m\u001b[0;34m,\u001b[0m \u001b[0minteractive\u001b[0m\u001b[0;34m,\u001b[0m \u001b[0mwantobjects\u001b[0m\u001b[0;34m,\u001b[0m \u001b[0museTk\u001b[0m\u001b[0;34m,\u001b[0m \u001b[0msync\u001b[0m\u001b[0;34m,\u001b[0m \u001b[0muse\u001b[0m\u001b[0;34m)\u001b[0m\u001b[0;34m\u001b[0m\u001b[0;34m\u001b[0m\u001b[0m\n\u001b[0m\u001b[1;32m   2024\u001b[0m         \u001b[0;32mif\u001b[0m \u001b[0museTk\u001b[0m\u001b[0;34m:\u001b[0m\u001b[0;34m\u001b[0m\u001b[0;34m\u001b[0m\u001b[0m\n\u001b[1;32m   2025\u001b[0m             \u001b[0mself\u001b[0m\u001b[0;34m.\u001b[0m\u001b[0m_loadtk\u001b[0m\u001b[0;34m(\u001b[0m\u001b[0;34m)\u001b[0m\u001b[0;34m\u001b[0m\u001b[0;34m\u001b[0m\u001b[0m\n",
            "\u001b[0;31mTclError\u001b[0m: no display name and no $DISPLAY environment variable"
          ]
        }
      ],
      "source": [
        "#本程式要在本機python才能執行\n",
        "import tkinter as tk\n",
        "import math\n",
        "\n",
        "window = tk.Tk()\n",
        "window.title('BMI App')\n",
        "window.geometry('800x600')\n",
        "window.configure(background='white')\n",
        "\n",
        "def calculate_bmi_number():\n",
        "    height = float(height_entry.get())/100\n",
        "    weight = float(weight_entry.get())\n",
        "    bmi_value = round(weight / math.pow(height, 2), 2)\n",
        "    result = '你的 BMI 指數為：{} {}'.format(bmi_value, get_bmi_status_description(bmi_value))\n",
        "    result_label.configure(text=result)\n",
        "    print(height)\n",
        "    print(weight)\n",
        "    print(weight / math.pow(height, 2))\n",
        "\n",
        "def get_bmi_status_description(bmi_value):\n",
        "    if bmi_value < 18.5:\n",
        "        return '體重過輕囉，多吃點！'\n",
        "    elif bmi_value >= 18.5 and bmi_value < 24:\n",
        "        return '體重剛剛好，繼續保持！'\n",
        "    elif bmi_value >= 24 :\n",
        "        return '體重有點過重囉，少吃多運動！'\n",
        "\n",
        "header_label = tk.Label(window, text='BMI 計算器')\n",
        "header_label.pack()\n",
        "\n",
        "height_frame = tk.Frame(window)\n",
        "height_frame.pack(side=tk.TOP)\n",
        "height_label = tk.Label(height_frame, text='身高（cm）')\n",
        "height_label.pack(side=tk.LEFT)\n",
        "height_entry = tk.Entry(height_frame)\n",
        "height_entry.pack(side=tk.LEFT)\n",
        "\n",
        "weight_frame = tk.Frame(window)\n",
        "weight_frame.pack(side=tk.TOP)\n",
        "weight_label = tk.Label(weight_frame, text='體重（kg）')\n",
        "weight_label.pack(side=tk.LEFT)\n",
        "weight_entry = tk.Entry(weight_frame)\n",
        "weight_entry.pack(side=tk.LEFT)\n",
        "\n",
        "result_label = tk.Label(window)\n",
        "result_label.pack()\n",
        "\n",
        "calculate_btn = tk.Button(window, text='馬上計算', command=calculate_bmi_number)\n",
        "calculate_btn.pack()\n",
        "\n",
        "window.mainloop()"
      ]
    }
  ]
}