{
  "nbformat": 4,
  "nbformat_minor": 0,
  "metadata": {
    "colab": {
      "name": "tkinter_matplotlib.ipynb",
      "provenance": [],
      "authorship_tag": "ABX9TyMzhijz7RNBuTD/cVCpmjs+",
      "include_colab_link": true
    },
    "kernelspec": {
      "name": "python3",
      "display_name": "Python 3"
    },
    "language_info": {
      "name": "python"
    }
  },
  "cells": [
    {
      "cell_type": "markdown",
      "metadata": {
        "id": "view-in-github",
        "colab_type": "text"
      },
      "source": [
        "<a href=\"https://colab.research.google.com/github/tewei0328/gui/blob/main/tkinter_matplotlib.ipynb\" target=\"_parent\"><img src=\"https://colab.research.google.com/assets/colab-badge.svg\" alt=\"Open In Colab\"/></a>"
      ]
    },
    {
      "cell_type": "code",
      "execution_count": 1,
      "metadata": {
        "colab": {
          "base_uri": "https://localhost:8080/",
          "height": 358
        },
        "id": "y7FUcCTfwUD0",
        "outputId": "25e3c62b-e64c-4696-f484-523ba796f736"
      },
      "outputs": [
        {
          "output_type": "error",
          "ename": "TclError",
          "evalue": "ignored",
          "traceback": [
            "\u001b[0;31m---------------------------------------------------------------------------\u001b[0m",
            "\u001b[0;31mTclError\u001b[0m                                  Traceback (most recent call last)",
            "\u001b[0;32m<ipython-input-1-0cb24692b258>\u001b[0m in \u001b[0;36m<module>\u001b[0;34m()\u001b[0m\n\u001b[1;32m     24\u001b[0m \u001b[0;34m\u001b[0m\u001b[0m\n\u001b[1;32m     25\u001b[0m \u001b[0;34m\u001b[0m\u001b[0m\n\u001b[0;32m---> 26\u001b[0;31m \u001b[0mroot\u001b[0m\u001b[0;34m=\u001b[0m \u001b[0mtk\u001b[0m\u001b[0;34m.\u001b[0m\u001b[0mTk\u001b[0m\u001b[0;34m(\u001b[0m\u001b[0;34m)\u001b[0m\u001b[0;34m\u001b[0m\u001b[0;34m\u001b[0m\u001b[0m\n\u001b[0m\u001b[1;32m     27\u001b[0m \u001b[0;34m\u001b[0m\u001b[0m\n\u001b[1;32m     28\u001b[0m \u001b[0mfigure1\u001b[0m \u001b[0;34m=\u001b[0m \u001b[0mplt\u001b[0m\u001b[0;34m.\u001b[0m\u001b[0mFigure\u001b[0m\u001b[0;34m(\u001b[0m\u001b[0mfigsize\u001b[0m\u001b[0;34m=\u001b[0m\u001b[0;34m(\u001b[0m\u001b[0;36m6\u001b[0m\u001b[0;34m,\u001b[0m\u001b[0;36m5\u001b[0m\u001b[0;34m)\u001b[0m\u001b[0;34m,\u001b[0m \u001b[0mdpi\u001b[0m\u001b[0;34m=\u001b[0m\u001b[0;36m100\u001b[0m\u001b[0;34m)\u001b[0m\u001b[0;34m\u001b[0m\u001b[0;34m\u001b[0m\u001b[0m\n",
            "\u001b[0;32m/usr/lib/python3.7/tkinter/__init__.py\u001b[0m in \u001b[0;36m__init__\u001b[0;34m(self, screenName, baseName, className, useTk, sync, use)\u001b[0m\n\u001b[1;32m   2021\u001b[0m                 \u001b[0mbaseName\u001b[0m \u001b[0;34m=\u001b[0m \u001b[0mbaseName\u001b[0m \u001b[0;34m+\u001b[0m \u001b[0mext\u001b[0m\u001b[0;34m\u001b[0m\u001b[0;34m\u001b[0m\u001b[0m\n\u001b[1;32m   2022\u001b[0m         \u001b[0minteractive\u001b[0m \u001b[0;34m=\u001b[0m \u001b[0;36m0\u001b[0m\u001b[0;34m\u001b[0m\u001b[0;34m\u001b[0m\u001b[0m\n\u001b[0;32m-> 2023\u001b[0;31m         \u001b[0mself\u001b[0m\u001b[0;34m.\u001b[0m\u001b[0mtk\u001b[0m \u001b[0;34m=\u001b[0m \u001b[0m_tkinter\u001b[0m\u001b[0;34m.\u001b[0m\u001b[0mcreate\u001b[0m\u001b[0;34m(\u001b[0m\u001b[0mscreenName\u001b[0m\u001b[0;34m,\u001b[0m \u001b[0mbaseName\u001b[0m\u001b[0;34m,\u001b[0m \u001b[0mclassName\u001b[0m\u001b[0;34m,\u001b[0m \u001b[0minteractive\u001b[0m\u001b[0;34m,\u001b[0m \u001b[0mwantobjects\u001b[0m\u001b[0;34m,\u001b[0m \u001b[0museTk\u001b[0m\u001b[0;34m,\u001b[0m \u001b[0msync\u001b[0m\u001b[0;34m,\u001b[0m \u001b[0muse\u001b[0m\u001b[0;34m)\u001b[0m\u001b[0;34m\u001b[0m\u001b[0;34m\u001b[0m\u001b[0m\n\u001b[0m\u001b[1;32m   2024\u001b[0m         \u001b[0;32mif\u001b[0m \u001b[0museTk\u001b[0m\u001b[0;34m:\u001b[0m\u001b[0;34m\u001b[0m\u001b[0;34m\u001b[0m\u001b[0m\n\u001b[1;32m   2025\u001b[0m             \u001b[0mself\u001b[0m\u001b[0;34m.\u001b[0m\u001b[0m_loadtk\u001b[0m\u001b[0;34m(\u001b[0m\u001b[0;34m)\u001b[0m\u001b[0;34m\u001b[0m\u001b[0;34m\u001b[0m\u001b[0m\n",
            "\u001b[0;31mTclError\u001b[0m: no display name and no $DISPLAY environment variable"
          ]
        }
      ],
      "source": [
        "#本程式要在本機python才能執行\n",
        "#\n",
        "import tkinter as tk\n",
        "from pandas import DataFrame\n",
        "import matplotlib.pyplot as plt\n",
        "from matplotlib.backends.backend_tkagg import FigureCanvasTkAgg\n",
        "\n",
        "data1 = {'Country': ['US','CA','GER','UK','FR'],\n",
        "         'GDP_Per_Capita': [45000,42000,52000,49000,47000]\n",
        "        }\n",
        "df1 = DataFrame(data1,columns=['Country','GDP_Per_Capita'])\n",
        "\n",
        "\n",
        "data2 = {'Year': [1920,1930,1940,1950,1960,1970,1980,1990,2000,2010],\n",
        "         'Unemployment_Rate': [9.8,12,8,7.2,6.9,7,6.5,6.2,5.5,6.3]\n",
        "        }\n",
        "df2 = DataFrame(data2,columns=['Year','Unemployment_Rate'])\n",
        "\n",
        "\n",
        "data3 = {'Interest_Rate': [5,5.5,6,5.5,5.25,6.5,7,8,7.5,8.5],\n",
        "         'Stock_Index_Price': [1500,1520,1525,1523,1515,1540,1545,1560,1555,1565]\n",
        "        }  \n",
        "df3 = DataFrame(data3,columns=['Interest_Rate','Stock_Index_Price'])\n",
        " \n",
        "\n",
        "root= tk.Tk() \n",
        "  \n",
        "figure1 = plt.Figure(figsize=(6,5), dpi=100)\n",
        "ax1 = figure1.add_subplot(111)\n",
        "bar1 = FigureCanvasTkAgg(figure1, root)\n",
        "bar1.get_tk_widget().pack(side=tk.LEFT, fill=tk.BOTH)\n",
        "df1 = df1[['Country','GDP_Per_Capita']].groupby('Country').sum()\n",
        "df1.plot(kind='bar', legend=True, ax=ax1)\n",
        "ax1.set_title('Country Vs. GDP Per Capita')\n",
        "\n",
        "figure2 = plt.Figure(figsize=(5,4), dpi=100)\n",
        "ax2 = figure2.add_subplot(111)\n",
        "line2 = FigureCanvasTkAgg(figure2, root)\n",
        "line2.get_tk_widget().pack(side=tk.LEFT, fill=tk.BOTH)\n",
        "df2 = df2[['Year','Unemployment_Rate']].groupby('Year').sum()\n",
        "df2.plot(kind='line', legend=True, ax=ax2, color='r',marker='o', fontsize=10)\n",
        "ax2.set_title('Year Vs. Unemployment Rate')\n",
        "\n",
        "figure3 = plt.Figure(figsize=(5,4), dpi=100)\n",
        "ax3 = figure3.add_subplot(111)\n",
        "ax3.scatter(df3['Interest_Rate'],df3['Stock_Index_Price'], color = 'g')\n",
        "scatter3 = FigureCanvasTkAgg(figure3, root) \n",
        "scatter3.get_tk_widget().pack(side=tk.LEFT, fill=tk.BOTH)\n",
        "ax3.legend(['Stock_Index_Price']) \n",
        "ax3.set_xlabel('Interest Rate')\n",
        "ax3.set_title('Interest Rate Vs. Stock Index Price')\n",
        "\n",
        "root.mainloop()"
      ]
    }
  ]
}